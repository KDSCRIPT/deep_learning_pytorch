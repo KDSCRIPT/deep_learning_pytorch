{
  "nbformat": 4,
  "nbformat_minor": 0,
  "metadata": {
    "colab": {
      "provenance": [],
      "gpuType": "T4"
    },
    "kernelspec": {
      "name": "python3",
      "display_name": "Python 3"
    },
    "language_info": {
      "name": "python"
    },
    "accelerator": "GPU"
  },
  "cells": [
    {
      "cell_type": "code",
      "execution_count": 1,
      "metadata": {
        "colab": {
          "base_uri": "https://localhost:8080/"
        },
        "id": "1WsMAe0xzYLE",
        "outputId": "1d824b27-3594-447a-cec3-2812847c6a3b"
      },
      "outputs": [
        {
          "output_type": "stream",
          "name": "stdout",
          "text": [
            "2.0.1+cu118\n"
          ]
        }
      ],
      "source": [
        "import torch\n",
        "import pandas as pd\n",
        "import numpy as np\n",
        "import matplotlib.pyplot as plt\n",
        "print(torch.__version__)"
      ]
    },
    {
      "cell_type": "code",
      "source": [
        "#Creating Tensors\n",
        "#scalar\n",
        "scalar=torch.tensor(7)\n",
        "scalar"
      ],
      "metadata": {
        "id": "7789oAOkzlBM",
        "colab": {
          "base_uri": "https://localhost:8080/"
        },
        "outputId": "9dbfb604-0acd-4f88-ec19-c809636b8445"
      },
      "execution_count": 2,
      "outputs": [
        {
          "output_type": "execute_result",
          "data": {
            "text/plain": [
              "tensor(7)"
            ]
          },
          "metadata": {},
          "execution_count": 2
        }
      ]
    },
    {
      "cell_type": "code",
      "source": [
        "scalar.ndim"
      ],
      "metadata": {
        "colab": {
          "base_uri": "https://localhost:8080/"
        },
        "id": "8GpwQAYHe4Dh",
        "outputId": "c54b2c32-79ae-4608-8c28-90ac931797a4"
      },
      "execution_count": 3,
      "outputs": [
        {
          "output_type": "execute_result",
          "data": {
            "text/plain": [
              "0"
            ]
          },
          "metadata": {},
          "execution_count": 3
        }
      ]
    },
    {
      "cell_type": "code",
      "source": [
        "#get int from tensor\n",
        "scalar.item()"
      ],
      "metadata": {
        "colab": {
          "base_uri": "https://localhost:8080/"
        },
        "id": "SKRAfma3fMRQ",
        "outputId": "284daf34-b0e1-4efd-fbb2-0e05cc7d4c03"
      },
      "execution_count": 4,
      "outputs": [
        {
          "output_type": "execute_result",
          "data": {
            "text/plain": [
              "7"
            ]
          },
          "metadata": {},
          "execution_count": 4
        }
      ]
    },
    {
      "cell_type": "code",
      "source": [
        "vector=torch.tensor([7,7])\n",
        "vector"
      ],
      "metadata": {
        "colab": {
          "base_uri": "https://localhost:8080/"
        },
        "id": "ELIACzTifrql",
        "outputId": "6990b978-ee3c-421b-f055-d1f3d901d8e7"
      },
      "execution_count": 5,
      "outputs": [
        {
          "output_type": "execute_result",
          "data": {
            "text/plain": [
              "tensor([7, 7])"
            ]
          },
          "metadata": {},
          "execution_count": 5
        }
      ]
    },
    {
      "cell_type": "code",
      "source": [
        "vector.shape"
      ],
      "metadata": {
        "colab": {
          "base_uri": "https://localhost:8080/"
        },
        "id": "0J5-lXezf31V",
        "outputId": "ac7a664a-3ff5-4a70-c0a6-0d1ca9160ad5"
      },
      "execution_count": 6,
      "outputs": [
        {
          "output_type": "execute_result",
          "data": {
            "text/plain": [
              "torch.Size([2])"
            ]
          },
          "metadata": {},
          "execution_count": 6
        }
      ]
    },
    {
      "cell_type": "code",
      "source": [
        "vector.ndim"
      ],
      "metadata": {
        "colab": {
          "base_uri": "https://localhost:8080/"
        },
        "id": "J49vfjHXgGf_",
        "outputId": "45e35503-c9fa-4c5e-fe59-c6a7f18392cf"
      },
      "execution_count": 7,
      "outputs": [
        {
          "output_type": "execute_result",
          "data": {
            "text/plain": [
              "1"
            ]
          },
          "metadata": {},
          "execution_count": 7
        }
      ]
    },
    {
      "cell_type": "code",
      "source": [
        "#MATRIX\n",
        "MATRIX=torch.tensor([[7,8],\n",
        "        [9,10]])\n",
        "MATRIX"
      ],
      "metadata": {
        "colab": {
          "base_uri": "https://localhost:8080/"
        },
        "id": "Ruc_QhOdgImd",
        "outputId": "f438b833-aa80-4e59-94b9-b55983eb4b2b"
      },
      "execution_count": 8,
      "outputs": [
        {
          "output_type": "execute_result",
          "data": {
            "text/plain": [
              "tensor([[ 7,  8],\n",
              "        [ 9, 10]])"
            ]
          },
          "metadata": {},
          "execution_count": 8
        }
      ]
    },
    {
      "cell_type": "code",
      "source": [
        "MATRIX.ndim"
      ],
      "metadata": {
        "colab": {
          "base_uri": "https://localhost:8080/"
        },
        "id": "PG48ZItegTce",
        "outputId": "67136a2a-7a43-4580-d328-278d261261a7"
      },
      "execution_count": 9,
      "outputs": [
        {
          "output_type": "execute_result",
          "data": {
            "text/plain": [
              "2"
            ]
          },
          "metadata": {},
          "execution_count": 9
        }
      ]
    },
    {
      "cell_type": "code",
      "source": [
        "MATRIX.shape"
      ],
      "metadata": {
        "colab": {
          "base_uri": "https://localhost:8080/"
        },
        "id": "msHjQSZYgkyk",
        "outputId": "dff3fd12-62c7-4e15-ecbd-29825145d60e"
      },
      "execution_count": 10,
      "outputs": [
        {
          "output_type": "execute_result",
          "data": {
            "text/plain": [
              "torch.Size([2, 2])"
            ]
          },
          "metadata": {},
          "execution_count": 10
        }
      ]
    },
    {
      "cell_type": "code",
      "source": [
        "MATRIX[0],MATRIX[1]"
      ],
      "metadata": {
        "colab": {
          "base_uri": "https://localhost:8080/"
        },
        "id": "1mxIaC7Qgwu2",
        "outputId": "8cd48e69-df11-4998-a50d-ac1d81ea6d2a"
      },
      "execution_count": 11,
      "outputs": [
        {
          "output_type": "execute_result",
          "data": {
            "text/plain": [
              "(tensor([7, 8]), tensor([ 9, 10]))"
            ]
          },
          "metadata": {},
          "execution_count": 11
        }
      ]
    },
    {
      "cell_type": "code",
      "source": [
        "#TENSOR\n",
        "TENSOR=torch.tensor([[[1,2,3],\n",
        "                     [3,6,9],\n",
        "                     [2,4,5]]])\n",
        "TENSOR"
      ],
      "metadata": {
        "colab": {
          "base_uri": "https://localhost:8080/"
        },
        "id": "DT-d2790g_vr",
        "outputId": "3bdd0b24-776b-4a80-f5ba-b17c5f329d50"
      },
      "execution_count": 12,
      "outputs": [
        {
          "output_type": "execute_result",
          "data": {
            "text/plain": [
              "tensor([[[1, 2, 3],\n",
              "         [3, 6, 9],\n",
              "         [2, 4, 5]]])"
            ]
          },
          "metadata": {},
          "execution_count": 12
        }
      ]
    },
    {
      "cell_type": "code",
      "source": [
        "TENSOR.ndim"
      ],
      "metadata": {
        "colab": {
          "base_uri": "https://localhost:8080/"
        },
        "id": "0xFLptCshaTI",
        "outputId": "91548ae9-7f87-462b-986b-111ed8de7207"
      },
      "execution_count": 13,
      "outputs": [
        {
          "output_type": "execute_result",
          "data": {
            "text/plain": [
              "3"
            ]
          },
          "metadata": {},
          "execution_count": 13
        }
      ]
    },
    {
      "cell_type": "code",
      "source": [
        "TENSOR[0]"
      ],
      "metadata": {
        "colab": {
          "base_uri": "https://localhost:8080/"
        },
        "id": "Vui3MZuIhoYK",
        "outputId": "615505d2-fa49-4e34-8d83-aa21b0c21a43"
      },
      "execution_count": 14,
      "outputs": [
        {
          "output_type": "execute_result",
          "data": {
            "text/plain": [
              "tensor([[1, 2, 3],\n",
              "        [3, 6, 9],\n",
              "        [2, 4, 5]])"
            ]
          },
          "metadata": {},
          "execution_count": 14
        }
      ]
    },
    {
      "cell_type": "code",
      "source": [
        "#Random tensors\n",
        "random_tensor=torch.rand(1,3,4)\n",
        "random_tensor"
      ],
      "metadata": {
        "colab": {
          "base_uri": "https://localhost:8080/"
        },
        "id": "8kxWdQ8Oh38m",
        "outputId": "a4dc2c0b-d35d-4127-a570-2ae52c80685a"
      },
      "execution_count": 15,
      "outputs": [
        {
          "output_type": "execute_result",
          "data": {
            "text/plain": [
              "tensor([[[0.2514, 0.9168, 0.3774, 0.6987],\n",
              "         [0.4570, 0.4052, 0.0894, 0.7724],\n",
              "         [0.7845, 0.0815, 0.4613, 0.3401]]])"
            ]
          },
          "metadata": {},
          "execution_count": 15
        }
      ]
    },
    {
      "cell_type": "code",
      "source": [
        "random_tensor.ndim"
      ],
      "metadata": {
        "colab": {
          "base_uri": "https://localhost:8080/"
        },
        "id": "USW3tpY8jf7x",
        "outputId": "0a5cbf11-ab1f-4d95-abb5-a3f73c85ed57"
      },
      "execution_count": 16,
      "outputs": [
        {
          "output_type": "execute_result",
          "data": {
            "text/plain": [
              "3"
            ]
          },
          "metadata": {},
          "execution_count": 16
        }
      ]
    },
    {
      "cell_type": "code",
      "source": [
        "random_tensor.shape"
      ],
      "metadata": {
        "colab": {
          "base_uri": "https://localhost:8080/"
        },
        "id": "Z8SbqgdnjtZc",
        "outputId": "bef55e2a-ed08-4798-8ecb-0c90a4454842"
      },
      "execution_count": 17,
      "outputs": [
        {
          "output_type": "execute_result",
          "data": {
            "text/plain": [
              "torch.Size([1, 3, 4])"
            ]
          },
          "metadata": {},
          "execution_count": 17
        }
      ]
    },
    {
      "cell_type": "code",
      "source": [
        "random_image_size_tensor=torch.rand(size=(224,224,3))\n",
        "random_image_size_tensor"
      ],
      "metadata": {
        "colab": {
          "base_uri": "https://localhost:8080/"
        },
        "id": "9Tr_hy3Mj74X",
        "outputId": "3326563d-375a-450d-f45a-cc7c1694b326"
      },
      "execution_count": 18,
      "outputs": [
        {
          "output_type": "execute_result",
          "data": {
            "text/plain": [
              "tensor([[[0.9107, 0.4493, 0.5987],\n",
              "         [0.7644, 0.2665, 0.7095],\n",
              "         [0.0485, 0.5801, 0.6045],\n",
              "         ...,\n",
              "         [0.9864, 0.4288, 0.5850],\n",
              "         [0.2172, 0.3227, 0.1408],\n",
              "         [0.6047, 0.4403, 0.0477]],\n",
              "\n",
              "        [[0.5578, 0.1235, 0.9861],\n",
              "         [0.7975, 0.4506, 0.5927],\n",
              "         [0.4519, 0.1743, 0.7638],\n",
              "         ...,\n",
              "         [0.6116, 0.9249, 0.5979],\n",
              "         [0.1111, 0.1278, 0.9178],\n",
              "         [0.2170, 0.9852, 0.3161]],\n",
              "\n",
              "        [[0.7840, 0.7154, 0.0514],\n",
              "         [0.5503, 0.2855, 0.2446],\n",
              "         [0.6676, 0.7593, 0.7038],\n",
              "         ...,\n",
              "         [0.7928, 0.2790, 0.6557],\n",
              "         [0.3962, 0.6707, 0.6995],\n",
              "         [0.6427, 0.5034, 0.8771]],\n",
              "\n",
              "        ...,\n",
              "\n",
              "        [[0.3920, 0.4026, 0.3470],\n",
              "         [0.0039, 0.8052, 0.2308],\n",
              "         [0.9481, 0.1948, 0.0097],\n",
              "         ...,\n",
              "         [0.5123, 0.8722, 0.2960],\n",
              "         [0.1723, 0.5796, 0.3081],\n",
              "         [0.7631, 0.2858, 0.0329]],\n",
              "\n",
              "        [[0.0266, 0.3091, 0.0984],\n",
              "         [0.6239, 0.9153, 0.7345],\n",
              "         [0.5948, 0.4902, 0.5605],\n",
              "         ...,\n",
              "         [0.7595, 0.5941, 0.1889],\n",
              "         [0.3205, 0.3555, 0.9256],\n",
              "         [0.6897, 0.1529, 0.5268]],\n",
              "\n",
              "        [[0.0414, 0.4553, 0.6893],\n",
              "         [0.1278, 0.1241, 0.5518],\n",
              "         [0.2665, 0.6012, 0.9816],\n",
              "         ...,\n",
              "         [0.0534, 0.2451, 0.6586],\n",
              "         [0.1475, 0.3264, 0.4777],\n",
              "         [0.0430, 0.4257, 0.8519]]])"
            ]
          },
          "metadata": {},
          "execution_count": 18
        }
      ]
    },
    {
      "cell_type": "code",
      "source": [
        "random_image_size_tensor.ndim"
      ],
      "metadata": {
        "colab": {
          "base_uri": "https://localhost:8080/"
        },
        "id": "6AIk8kxWkHns",
        "outputId": "90d7d5f3-c1cc-4a0a-ebaf-33a58867a6a3"
      },
      "execution_count": 19,
      "outputs": [
        {
          "output_type": "execute_result",
          "data": {
            "text/plain": [
              "3"
            ]
          },
          "metadata": {},
          "execution_count": 19
        }
      ]
    },
    {
      "cell_type": "code",
      "source": [
        "#zeros and ones\n",
        "zeros=torch.zeros(size=(3,4))\n",
        "zeros"
      ],
      "metadata": {
        "colab": {
          "base_uri": "https://localhost:8080/"
        },
        "id": "WCy9WC3hkK5v",
        "outputId": "8cebaa83-444a-4b46-c2d8-c4d20f43bcdb"
      },
      "execution_count": 20,
      "outputs": [
        {
          "output_type": "execute_result",
          "data": {
            "text/plain": [
              "tensor([[0., 0., 0., 0.],\n",
              "        [0., 0., 0., 0.],\n",
              "        [0., 0., 0., 0.]])"
            ]
          },
          "metadata": {},
          "execution_count": 20
        }
      ]
    },
    {
      "cell_type": "code",
      "source": [
        "ones=torch.ones(size=(3,4))\n",
        "ones"
      ],
      "metadata": {
        "colab": {
          "base_uri": "https://localhost:8080/"
        },
        "id": "rufnO036lIcT",
        "outputId": "f150333c-60ab-43fd-be63-9a6e009c713f"
      },
      "execution_count": 21,
      "outputs": [
        {
          "output_type": "execute_result",
          "data": {
            "text/plain": [
              "tensor([[1., 1., 1., 1.],\n",
              "        [1., 1., 1., 1.],\n",
              "        [1., 1., 1., 1.]])"
            ]
          },
          "metadata": {},
          "execution_count": 21
        }
      ]
    },
    {
      "cell_type": "code",
      "source": [
        "ones.dtype"
      ],
      "metadata": {
        "colab": {
          "base_uri": "https://localhost:8080/"
        },
        "id": "cpQuwXmXllnL",
        "outputId": "cc968bd3-1d6f-4a56-d826-cdae8cd5f56b"
      },
      "execution_count": 22,
      "outputs": [
        {
          "output_type": "execute_result",
          "data": {
            "text/plain": [
              "torch.float32"
            ]
          },
          "metadata": {},
          "execution_count": 22
        }
      ]
    },
    {
      "cell_type": "code",
      "source": [
        "one_to_ten=torch.arange(1,11)\n",
        "one_to_ten"
      ],
      "metadata": {
        "colab": {
          "base_uri": "https://localhost:8080/"
        },
        "id": "XrNv4RsKlnHC",
        "outputId": "4f9ad9fb-f358-4fbe-ed02-492516067406"
      },
      "execution_count": 23,
      "outputs": [
        {
          "output_type": "execute_result",
          "data": {
            "text/plain": [
              "tensor([ 1,  2,  3,  4,  5,  6,  7,  8,  9, 10])"
            ]
          },
          "metadata": {},
          "execution_count": 23
        }
      ]
    },
    {
      "cell_type": "code",
      "source": [
        "#creating tensor like\n",
        "ten_zeros=torch.zeros_like(input=one_to_ten)\n",
        "ten_zeros"
      ],
      "metadata": {
        "colab": {
          "base_uri": "https://localhost:8080/"
        },
        "id": "7A0e_uFkmbQx",
        "outputId": "b921bc49-97a5-4af0-f686-51e534c6fa0d"
      },
      "execution_count": 24,
      "outputs": [
        {
          "output_type": "execute_result",
          "data": {
            "text/plain": [
              "tensor([0, 0, 0, 0, 0, 0, 0, 0, 0, 0])"
            ]
          },
          "metadata": {},
          "execution_count": 24
        }
      ]
    },
    {
      "cell_type": "code",
      "source": [
        "#Tensor Datatypes\n",
        "#float32 tensor\n",
        "float_32_tensor=torch.tensor([3.0,6.0,9.0],dtype=None)\n",
        "float_32_tensor"
      ],
      "metadata": {
        "colab": {
          "base_uri": "https://localhost:8080/"
        },
        "id": "N9abyqJRn1Az",
        "outputId": "ca60ba06-d676-4f3d-9d8c-967180fb1df3"
      },
      "execution_count": 25,
      "outputs": [
        {
          "output_type": "execute_result",
          "data": {
            "text/plain": [
              "tensor([3., 6., 9.])"
            ]
          },
          "metadata": {},
          "execution_count": 25
        }
      ]
    },
    {
      "cell_type": "code",
      "source": [
        "float_32_tensor.dtype"
      ],
      "metadata": {
        "colab": {
          "base_uri": "https://localhost:8080/"
        },
        "id": "oKGH7pkloH1w",
        "outputId": "1684a2dc-1cd4-4981-939e-6df45dca4660"
      },
      "execution_count": 26,
      "outputs": [
        {
          "output_type": "execute_result",
          "data": {
            "text/plain": [
              "torch.float32"
            ]
          },
          "metadata": {},
          "execution_count": 26
        }
      ]
    },
    {
      "cell_type": "code",
      "source": [
        "float_16_tensor=torch.tensor([3.0,6.0,9.0],dtype=torch.float16)\n",
        "float_16_tensor"
      ],
      "metadata": {
        "colab": {
          "base_uri": "https://localhost:8080/"
        },
        "id": "vQA8f5jPoJe_",
        "outputId": "b29f2177-5bf9-4bc0-f511-242ae4a099d2"
      },
      "execution_count": 27,
      "outputs": [
        {
          "output_type": "execute_result",
          "data": {
            "text/plain": [
              "tensor([3., 6., 9.], dtype=torch.float16)"
            ]
          },
          "metadata": {},
          "execution_count": 27
        }
      ]
    },
    {
      "cell_type": "code",
      "source": [
        "float_16_tensor.dtype"
      ],
      "metadata": {
        "colab": {
          "base_uri": "https://localhost:8080/"
        },
        "id": "YdwqvJAbC-ku",
        "outputId": "d36a1171-9203-4d18-8cdd-93deacc7e3b5"
      },
      "execution_count": 28,
      "outputs": [
        {
          "output_type": "execute_result",
          "data": {
            "text/plain": [
              "torch.float16"
            ]
          },
          "metadata": {},
          "execution_count": 28
        }
      ]
    },
    {
      "cell_type": "code",
      "source": [
        "float_16_tensor=float_32_tensor.type(torch.float16)\n",
        "float_16_tensor"
      ],
      "metadata": {
        "colab": {
          "base_uri": "https://localhost:8080/"
        },
        "id": "1mr1yqHjDBku",
        "outputId": "ef619b6b-dd83-4b20-a32a-0753bda99777"
      },
      "execution_count": 29,
      "outputs": [
        {
          "output_type": "execute_result",
          "data": {
            "text/plain": [
              "tensor([3., 6., 9.], dtype=torch.float16)"
            ]
          },
          "metadata": {},
          "execution_count": 29
        }
      ]
    },
    {
      "cell_type": "code",
      "source": [
        "(float_16_tensor*float_32_tensor).dtype"
      ],
      "metadata": {
        "colab": {
          "base_uri": "https://localhost:8080/"
        },
        "id": "OOd1kMiBEaun",
        "outputId": "d079895f-1578-4f6e-b724-0b202f0c1e40"
      },
      "execution_count": 30,
      "outputs": [
        {
          "output_type": "execute_result",
          "data": {
            "text/plain": [
              "torch.float32"
            ]
          },
          "metadata": {},
          "execution_count": 30
        }
      ]
    },
    {
      "cell_type": "code",
      "source": [
        "int_32_tensor=torch.tensor([3,6,9],dtype=torch.int32)\n",
        "int_32_tensor"
      ],
      "metadata": {
        "id": "Rlc5zxUMEwZN",
        "colab": {
          "base_uri": "https://localhost:8080/"
        },
        "outputId": "a52d5bf8-245d-4fef-a19c-e331a99df12d"
      },
      "execution_count": 31,
      "outputs": [
        {
          "output_type": "execute_result",
          "data": {
            "text/plain": [
              "tensor([3, 6, 9], dtype=torch.int32)"
            ]
          },
          "metadata": {},
          "execution_count": 31
        }
      ]
    },
    {
      "cell_type": "code",
      "source": [
        "int_long_tensor=torch.tensor([3,6,9],dtype=torch.long)\n",
        "int_long_tensor"
      ],
      "metadata": {
        "colab": {
          "base_uri": "https://localhost:8080/"
        },
        "id": "XL2dmcn9Pswb",
        "outputId": "692b46e2-c9ed-4786-ddcd-10bc3affca2b"
      },
      "execution_count": 32,
      "outputs": [
        {
          "output_type": "execute_result",
          "data": {
            "text/plain": [
              "tensor([3, 6, 9])"
            ]
          },
          "metadata": {},
          "execution_count": 32
        }
      ]
    },
    {
      "cell_type": "code",
      "source": [
        "float_32_tensor*int_32_tensor"
      ],
      "metadata": {
        "colab": {
          "base_uri": "https://localhost:8080/"
        },
        "id": "1yQuPBc1QGzd",
        "outputId": "8efbe9a6-5ce8-430a-f71e-dc63b5782e16"
      },
      "execution_count": 33,
      "outputs": [
        {
          "output_type": "execute_result",
          "data": {
            "text/plain": [
              "tensor([ 9., 36., 81.])"
            ]
          },
          "metadata": {},
          "execution_count": 33
        }
      ]
    },
    {
      "cell_type": "code",
      "source": [
        "some_tensor=torch.rand(3,4)\n",
        "some_tensor"
      ],
      "metadata": {
        "colab": {
          "base_uri": "https://localhost:8080/"
        },
        "id": "wGKil-9rQJW8",
        "outputId": "0f4b0a10-bb1f-4244-a92c-bd5fc9340381"
      },
      "execution_count": 34,
      "outputs": [
        {
          "output_type": "execute_result",
          "data": {
            "text/plain": [
              "tensor([[0.3292, 0.7806, 0.3114, 0.8914],\n",
              "        [0.9393, 0.5325, 0.7883, 0.7918],\n",
              "        [0.5925, 0.3561, 0.4514, 0.7302]])"
            ]
          },
          "metadata": {},
          "execution_count": 34
        }
      ]
    },
    {
      "cell_type": "code",
      "source": [
        "print(some_tensor)\n",
        "print(f\"Datatype of tensor: {some_tensor.dtype}\")\n",
        "print(f\"Shape of tensor: {some_tensor.size()}\")\n",
        "print(f\"Device the tensor is on: {some_tensor.device}\")"
      ],
      "metadata": {
        "colab": {
          "base_uri": "https://localhost:8080/"
        },
        "id": "cq6cEiO_Qrpu",
        "outputId": "6f6a1868-7daf-4a2a-a8c8-62a34871f5d4"
      },
      "execution_count": 35,
      "outputs": [
        {
          "output_type": "stream",
          "name": "stdout",
          "text": [
            "tensor([[0.3292, 0.7806, 0.3114, 0.8914],\n",
            "        [0.9393, 0.5325, 0.7883, 0.7918],\n",
            "        [0.5925, 0.3561, 0.4514, 0.7302]])\n",
            "Datatype of tensor: torch.float32\n",
            "Shape of tensor: torch.Size([3, 4])\n",
            "Device the tensor is on: cpu\n"
          ]
        }
      ]
    },
    {
      "cell_type": "code",
      "source": [
        "#manipulating tensors(tensor operations)\n",
        "tensor=torch.tensor([1,2,3])\n",
        "tensor+10,tensor-10,tensor*10,tensor/2"
      ],
      "metadata": {
        "colab": {
          "base_uri": "https://localhost:8080/"
        },
        "id": "bb3FKuEeRKZU",
        "outputId": "c84379a4-c2ed-46b5-d0c8-6e402e06c56b"
      },
      "execution_count": 36,
      "outputs": [
        {
          "output_type": "execute_result",
          "data": {
            "text/plain": [
              "(tensor([11, 12, 13]),\n",
              " tensor([-9, -8, -7]),\n",
              " tensor([10, 20, 30]),\n",
              " tensor([0.5000, 1.0000, 1.5000]))"
            ]
          },
          "metadata": {},
          "execution_count": 36
        }
      ]
    },
    {
      "cell_type": "code",
      "source": [
        "#You can also pytorch in built functions\n",
        "torch.mul(tensor,10),torch.add(tensor,10)"
      ],
      "metadata": {
        "colab": {
          "base_uri": "https://localhost:8080/"
        },
        "id": "SegHKcavRvUp",
        "outputId": "e3fe8eeb-b2c1-4f74-e2de-ac871a3ed4ed"
      },
      "execution_count": 37,
      "outputs": [
        {
          "output_type": "execute_result",
          "data": {
            "text/plain": [
              "(tensor([10, 20, 30]), tensor([11, 12, 13]))"
            ]
          },
          "metadata": {},
          "execution_count": 37
        }
      ]
    },
    {
      "cell_type": "code",
      "source": [
        "#element wise multiplication\n",
        "print(f\"{tensor} * {tensor} = {tensor*tensor}\")"
      ],
      "metadata": {
        "colab": {
          "base_uri": "https://localhost:8080/"
        },
        "id": "60-DZvSRSeIp",
        "outputId": "087132d4-f72f-4344-8b4a-7467e615c361"
      },
      "execution_count": 38,
      "outputs": [
        {
          "output_type": "stream",
          "name": "stdout",
          "text": [
            "tensor([1, 2, 3]) * tensor([1, 2, 3]) = tensor([1, 4, 9])\n"
          ]
        }
      ]
    },
    {
      "cell_type": "code",
      "source": [
        "#matrix multiplication\n",
        "torch.matmul(tensor,tensor)"
      ],
      "metadata": {
        "colab": {
          "base_uri": "https://localhost:8080/"
        },
        "id": "taP01XWeTEOE",
        "outputId": "f631da7a-3ffc-44a1-f808-31d7bcbd81d5"
      },
      "execution_count": 39,
      "outputs": [
        {
          "output_type": "execute_result",
          "data": {
            "text/plain": [
              "tensor(14)"
            ]
          },
          "metadata": {},
          "execution_count": 39
        }
      ]
    },
    {
      "cell_type": "code",
      "source": [
        "%%time\n",
        "value=0\n",
        "for i in range(len(tensor)):\n",
        "  value+=tensor[i]*tensor[i]\n",
        "print(value)"
      ],
      "metadata": {
        "colab": {
          "base_uri": "https://localhost:8080/"
        },
        "id": "2DfV2S-zTNLk",
        "outputId": "be3f213d-de94-4dde-cafe-0f6b7819a5b9"
      },
      "execution_count": 40,
      "outputs": [
        {
          "output_type": "stream",
          "name": "stdout",
          "text": [
            "tensor(14)\n",
            "CPU times: user 985 µs, sys: 0 ns, total: 985 µs\n",
            "Wall time: 1.04 ms\n"
          ]
        }
      ]
    },
    {
      "cell_type": "code",
      "source": [
        "%%time\n",
        "torch.matmul(tensor,tensor)"
      ],
      "metadata": {
        "colab": {
          "base_uri": "https://localhost:8080/"
        },
        "id": "Q5-BF_HXUe93",
        "outputId": "c853ef4d-ce38-4397-8b81-5dfb707f063f"
      },
      "execution_count": 41,
      "outputs": [
        {
          "output_type": "stream",
          "name": "stdout",
          "text": [
            "CPU times: user 34 µs, sys: 0 ns, total: 34 µs\n",
            "Wall time: 37.4 µs\n"
          ]
        },
        {
          "output_type": "execute_result",
          "data": {
            "text/plain": [
              "tensor(14)"
            ]
          },
          "metadata": {},
          "execution_count": 41
        }
      ]
    },
    {
      "cell_type": "code",
      "source": [
        "torch.matmul(torch.rand(2,3),torch.rand(3,2))"
      ],
      "metadata": {
        "colab": {
          "base_uri": "https://localhost:8080/"
        },
        "id": "uEiwatj7Uh0q",
        "outputId": "895f4098-d03c-4aef-d0ad-801fa87195d5"
      },
      "execution_count": 42,
      "outputs": [
        {
          "output_type": "execute_result",
          "data": {
            "text/plain": [
              "tensor([[0.4156, 0.2982],\n",
              "        [0.2958, 0.3203]])"
            ]
          },
          "metadata": {},
          "execution_count": 42
        }
      ]
    },
    {
      "cell_type": "code",
      "source": [
        "#Shapes for matrix mulitplications\n",
        "tensor_A=torch.tensor([[1,2],\n",
        "                       [3,4],\n",
        "                       [5,6]])\n",
        "tensor_B=torch.tensor([[7,10],\n",
        "                       [8,11],\n",
        "                       [9,12]])"
      ],
      "metadata": {
        "id": "uU-JfC_-U3gI"
      },
      "execution_count": 43,
      "outputs": []
    },
    {
      "cell_type": "code",
      "source": [
        "#tranpsose\n",
        "tensor_B.T,tensor_B.T.shape"
      ],
      "metadata": {
        "colab": {
          "base_uri": "https://localhost:8080/"
        },
        "id": "yee04LMHWE8W",
        "outputId": "bee414cf-8c97-42e0-e7d3-fc3f661f305f"
      },
      "execution_count": 44,
      "outputs": [
        {
          "output_type": "execute_result",
          "data": {
            "text/plain": [
              "(tensor([[ 7,  8,  9],\n",
              "         [10, 11, 12]]),\n",
              " torch.Size([2, 3]))"
            ]
          },
          "metadata": {},
          "execution_count": 44
        }
      ]
    },
    {
      "cell_type": "code",
      "source": [
        "tensor_B,tensor_B.shape"
      ],
      "metadata": {
        "colab": {
          "base_uri": "https://localhost:8080/"
        },
        "id": "7XCvTMMrWdmA",
        "outputId": "029108a9-5a03-4fb2-dec0-656bda8dc6d2"
      },
      "execution_count": 45,
      "outputs": [
        {
          "output_type": "execute_result",
          "data": {
            "text/plain": [
              "(tensor([[ 7, 10],\n",
              "         [ 8, 11],\n",
              "         [ 9, 12]]),\n",
              " torch.Size([3, 2]))"
            ]
          },
          "metadata": {},
          "execution_count": 45
        }
      ]
    },
    {
      "cell_type": "code",
      "source": [
        "torch.matmul(tensor_A,tensor_B.T)"
      ],
      "metadata": {
        "colab": {
          "base_uri": "https://localhost:8080/"
        },
        "id": "1knZD1cgWgis",
        "outputId": "388c7faa-ba83-4588-94d3-a1d0c713096e"
      },
      "execution_count": 46,
      "outputs": [
        {
          "output_type": "execute_result",
          "data": {
            "text/plain": [
              "tensor([[ 27,  30,  33],\n",
              "        [ 61,  68,  75],\n",
              "        [ 95, 106, 117]])"
            ]
          },
          "metadata": {},
          "execution_count": 46
        }
      ]
    },
    {
      "cell_type": "code",
      "source": [
        "#the matrix mulitplication works when tensor B is transposed\n",
        "print(f\"Original shape:tensor_A={tensor_A.shape} , tensor_B={tensor_B.shape}\")\n",
        "print(f\"New shapes:tensor_A={tensor_A.shape} , tensor_B={tensor_B.T.shape}\")\n",
        "print(f\"Multiplying: {tensor_A.shape} & {tensor_B.T.shape} <-innrer dimensions must match\")\n",
        "output=torch.matmul(tensor_A,tensor_B.T)\n",
        "print(f\"Output:\\n{output}\")\n",
        "print(f\"Shape:{output.shape}\")"
      ],
      "metadata": {
        "colab": {
          "base_uri": "https://localhost:8080/"
        },
        "id": "iiw9QXLeXAbf",
        "outputId": "c9da2570-9f4c-43ad-e22c-f2cedc98acc7"
      },
      "execution_count": 47,
      "outputs": [
        {
          "output_type": "stream",
          "name": "stdout",
          "text": [
            "Original shape:tensor_A=torch.Size([3, 2]) , tensor_B=torch.Size([3, 2])\n",
            "New shapes:tensor_A=torch.Size([3, 2]) , tensor_B=torch.Size([2, 3])\n",
            "Multiplying: torch.Size([3, 2]) & torch.Size([2, 3]) <-innrer dimensions must match\n",
            "Output:\n",
            "tensor([[ 27,  30,  33],\n",
            "        [ 61,  68,  75],\n",
            "        [ 95, 106, 117]])\n",
            "Shape:torch.Size([3, 3])\n"
          ]
        }
      ]
    },
    {
      "cell_type": "code",
      "source": [
        "#Tensor aggreagation\n",
        "x=torch.arange(0,100,10)\n",
        "x"
      ],
      "metadata": {
        "colab": {
          "base_uri": "https://localhost:8080/"
        },
        "id": "oUV6lYN5YBfd",
        "outputId": "945157ce-735b-4eab-a295-1f07b08ba71b"
      },
      "execution_count": 48,
      "outputs": [
        {
          "output_type": "execute_result",
          "data": {
            "text/plain": [
              "tensor([ 0, 10, 20, 30, 40, 50, 60, 70, 80, 90])"
            ]
          },
          "metadata": {},
          "execution_count": 48
        }
      ]
    },
    {
      "cell_type": "code",
      "source": [
        "#find the min\n",
        "torch.min(x),x.min()"
      ],
      "metadata": {
        "colab": {
          "base_uri": "https://localhost:8080/"
        },
        "id": "TuksbpkbZPSK",
        "outputId": "474c7b80-76ab-480e-ffdf-3b7deb13867a"
      },
      "execution_count": 49,
      "outputs": [
        {
          "output_type": "execute_result",
          "data": {
            "text/plain": [
              "(tensor(0), tensor(0))"
            ]
          },
          "metadata": {},
          "execution_count": 49
        }
      ]
    },
    {
      "cell_type": "code",
      "source": [
        "#find the max\n",
        "torch.max(x),x.max()"
      ],
      "metadata": {
        "colab": {
          "base_uri": "https://localhost:8080/"
        },
        "id": "Txcw9VMsZpAX",
        "outputId": "fffdac7b-6b7c-414e-c3f2-4532985d7db1"
      },
      "execution_count": 50,
      "outputs": [
        {
          "output_type": "execute_result",
          "data": {
            "text/plain": [
              "(tensor(90), tensor(90))"
            ]
          },
          "metadata": {},
          "execution_count": 50
        }
      ]
    },
    {
      "cell_type": "code",
      "source": [
        "#find the mean\n",
        "torch.mean(x.type(torch.float32)),x.type(torch.float32).mean()"
      ],
      "metadata": {
        "colab": {
          "base_uri": "https://localhost:8080/"
        },
        "id": "9CltjqpgZxO3",
        "outputId": "25779f9f-d70f-4abc-90db-e2cddf8d68f1"
      },
      "execution_count": 51,
      "outputs": [
        {
          "output_type": "execute_result",
          "data": {
            "text/plain": [
              "(tensor(45.), tensor(45.))"
            ]
          },
          "metadata": {},
          "execution_count": 51
        }
      ]
    },
    {
      "cell_type": "code",
      "source": [
        "#find the sum\n",
        "torch.sum(x),x.sum()"
      ],
      "metadata": {
        "colab": {
          "base_uri": "https://localhost:8080/"
        },
        "id": "UD9fLqYaaE5T",
        "outputId": "1accdc1d-545e-4d9e-a61b-ed7ae5e2a382"
      },
      "execution_count": 52,
      "outputs": [
        {
          "output_type": "execute_result",
          "data": {
            "text/plain": [
              "(tensor(450), tensor(450))"
            ]
          },
          "metadata": {},
          "execution_count": 52
        }
      ]
    },
    {
      "cell_type": "code",
      "source": [
        "#positional min and max\n",
        "x.argmax(),x.argmin()"
      ],
      "metadata": {
        "colab": {
          "base_uri": "https://localhost:8080/"
        },
        "id": "dt0UpgAsb9xg",
        "outputId": "4db72033-db6f-4986-d135-f727c32f0b1a"
      },
      "execution_count": 53,
      "outputs": [
        {
          "output_type": "execute_result",
          "data": {
            "text/plain": [
              "(tensor(9), tensor(0))"
            ]
          },
          "metadata": {},
          "execution_count": 53
        }
      ]
    },
    {
      "cell_type": "code",
      "source": [
        "#reshaping,stacking,squeezing and unseqeezing tensors\n",
        "import torch\n",
        "x=torch.arange(1.,10.)"
      ],
      "metadata": {
        "id": "jdvTSMbMccm6"
      },
      "execution_count": 54,
      "outputs": []
    },
    {
      "cell_type": "code",
      "source": [
        "x,x.shape"
      ],
      "metadata": {
        "colab": {
          "base_uri": "https://localhost:8080/"
        },
        "id": "fZ7CTFI_eB64",
        "outputId": "0948d17c-be0e-4984-89d2-5c0667bb7a41"
      },
      "execution_count": 55,
      "outputs": [
        {
          "output_type": "execute_result",
          "data": {
            "text/plain": [
              "(tensor([1., 2., 3., 4., 5., 6., 7., 8., 9.]), torch.Size([9]))"
            ]
          },
          "metadata": {},
          "execution_count": 55
        }
      ]
    },
    {
      "cell_type": "code",
      "source": [
        "#add extra dimension\n",
        "x_reshaped=x.reshape(1,9)\n",
        "x_reshaped,x_reshaped.shape"
      ],
      "metadata": {
        "colab": {
          "base_uri": "https://localhost:8080/"
        },
        "id": "yYCWq-Q6eDZX",
        "outputId": "94f5927d-2662-4f5a-ac76-3a1f3cf19ae4"
      },
      "execution_count": 56,
      "outputs": [
        {
          "output_type": "execute_result",
          "data": {
            "text/plain": [
              "(tensor([[1., 2., 3., 4., 5., 6., 7., 8., 9.]]), torch.Size([1, 9]))"
            ]
          },
          "metadata": {},
          "execution_count": 56
        }
      ]
    },
    {
      "cell_type": "code",
      "source": [
        "#change the view\n",
        "z=x.view(1,9)\n",
        "z,z.shape"
      ],
      "metadata": {
        "colab": {
          "base_uri": "https://localhost:8080/"
        },
        "id": "6VjL_IfYeQ5L",
        "outputId": "8378f867-2ed5-467d-c94d-812355f351fc"
      },
      "execution_count": 57,
      "outputs": [
        {
          "output_type": "execute_result",
          "data": {
            "text/plain": [
              "(tensor([[1., 2., 3., 4., 5., 6., 7., 8., 9.]]), torch.Size([1, 9]))"
            ]
          },
          "metadata": {},
          "execution_count": 57
        }
      ]
    },
    {
      "cell_type": "code",
      "source": [
        "#view shares memory with original tensor\n",
        "z[:,0]=5\n",
        "z,x"
      ],
      "metadata": {
        "colab": {
          "base_uri": "https://localhost:8080/"
        },
        "id": "HEXaga0me7ov",
        "outputId": "d097d69f-53f3-4f3e-e422-8b65fac38ff7"
      },
      "execution_count": 58,
      "outputs": [
        {
          "output_type": "execute_result",
          "data": {
            "text/plain": [
              "(tensor([[5., 2., 3., 4., 5., 6., 7., 8., 9.]]),\n",
              " tensor([5., 2., 3., 4., 5., 6., 7., 8., 9.]))"
            ]
          },
          "metadata": {},
          "execution_count": 58
        }
      ]
    },
    {
      "cell_type": "code",
      "source": [
        "#stack tensors on top of each other\n",
        "x_stacked=torch.stack([x,x,x,x])\n",
        "x_stacked"
      ],
      "metadata": {
        "colab": {
          "base_uri": "https://localhost:8080/"
        },
        "id": "U5Njh8XafTb0",
        "outputId": "eaf0b21c-cbbd-4ce2-e374-ff25c58ab5c6"
      },
      "execution_count": 59,
      "outputs": [
        {
          "output_type": "execute_result",
          "data": {
            "text/plain": [
              "tensor([[5., 2., 3., 4., 5., 6., 7., 8., 9.],\n",
              "        [5., 2., 3., 4., 5., 6., 7., 8., 9.],\n",
              "        [5., 2., 3., 4., 5., 6., 7., 8., 9.],\n",
              "        [5., 2., 3., 4., 5., 6., 7., 8., 9.]])"
            ]
          },
          "metadata": {},
          "execution_count": 59
        }
      ]
    },
    {
      "cell_type": "code",
      "source": [
        "x_stacked=torch.stack([x,x,x,x],axis=1)\n",
        "x_stacked"
      ],
      "metadata": {
        "colab": {
          "base_uri": "https://localhost:8080/"
        },
        "id": "ahy7jraEfma7",
        "outputId": "21f01b9a-b8ed-4997-eb31-92b7a51bf29d"
      },
      "execution_count": 60,
      "outputs": [
        {
          "output_type": "execute_result",
          "data": {
            "text/plain": [
              "tensor([[5., 5., 5., 5.],\n",
              "        [2., 2., 2., 2.],\n",
              "        [3., 3., 3., 3.],\n",
              "        [4., 4., 4., 4.],\n",
              "        [5., 5., 5., 5.],\n",
              "        [6., 6., 6., 6.],\n",
              "        [7., 7., 7., 7.],\n",
              "        [8., 8., 8., 8.],\n",
              "        [9., 9., 9., 9.]])"
            ]
          },
          "metadata": {},
          "execution_count": 60
        }
      ]
    },
    {
      "cell_type": "code",
      "source": [
        "#torch.sqeeuze() and torch.unsqueeze()\n",
        "x_reshaped,x_reshaped.squeeze()"
      ],
      "metadata": {
        "colab": {
          "base_uri": "https://localhost:8080/"
        },
        "id": "nu3sRGqZf9-N",
        "outputId": "ac17f5f1-ccb6-45b8-a5b8-fdbeb44088e3"
      },
      "execution_count": 61,
      "outputs": [
        {
          "output_type": "execute_result",
          "data": {
            "text/plain": [
              "(tensor([[5., 2., 3., 4., 5., 6., 7., 8., 9.]]),\n",
              " tensor([5., 2., 3., 4., 5., 6., 7., 8., 9.]))"
            ]
          },
          "metadata": {},
          "execution_count": 61
        }
      ]
    },
    {
      "cell_type": "code",
      "source": [
        "x_reshaped.shape,x_reshaped.squeeze().shape"
      ],
      "metadata": {
        "colab": {
          "base_uri": "https://localhost:8080/"
        },
        "id": "xMiSGpUhhf6u",
        "outputId": "d8a466b9-1914-4093-8718-6e9328fa2098"
      },
      "execution_count": 62,
      "outputs": [
        {
          "output_type": "execute_result",
          "data": {
            "text/plain": [
              "(torch.Size([1, 9]), torch.Size([9]))"
            ]
          },
          "metadata": {},
          "execution_count": 62
        }
      ]
    },
    {
      "cell_type": "code",
      "source": [
        "print(f\"Previous tensor: {x_reshaped}\")\n",
        "print(f\"Previous shape: {x_reshaped.shape}\")\n",
        "\n",
        "#remove extra dimensions from x_reshaped\n",
        "x_squeezed=x_reshaped.squeeze()\n",
        "print(f\"\\nNew Tensor: {x_squeezed}\")\n",
        "print(f\"New shape: {x_squeezed.shape}\")"
      ],
      "metadata": {
        "colab": {
          "base_uri": "https://localhost:8080/"
        },
        "id": "_OgJwkCFhrYd",
        "outputId": "56ff01af-3f7f-44c7-9a31-cd999db8db6e"
      },
      "execution_count": 63,
      "outputs": [
        {
          "output_type": "stream",
          "name": "stdout",
          "text": [
            "Previous tensor: tensor([[5., 2., 3., 4., 5., 6., 7., 8., 9.]])\n",
            "Previous shape: torch.Size([1, 9])\n",
            "\n",
            "New Tensor: tensor([5., 2., 3., 4., 5., 6., 7., 8., 9.])\n",
            "New shape: torch.Size([9])\n"
          ]
        }
      ]
    },
    {
      "cell_type": "code",
      "source": [
        "print(f\"\\nPrevious Tensor: {x_squeezed}\")\n",
        "print(f\"Previous shape: {x_squeezed.shape}\")\n",
        "\n",
        "#add an extra dimension with unsqueeze\n",
        "x_unsqueezed=x_squeezed.unsqueeze(dim=0)\n",
        "print(f\"\\nNew Tensor: {x_unsqueezed}\")\n",
        "print(f\"New shape: {x_unsqueezed.shape}\")"
      ],
      "metadata": {
        "colab": {
          "base_uri": "https://localhost:8080/"
        },
        "id": "NkKnevt9iTHC",
        "outputId": "273209cc-15b2-4c2b-e8c4-07cc146717a1"
      },
      "execution_count": 64,
      "outputs": [
        {
          "output_type": "stream",
          "name": "stdout",
          "text": [
            "\n",
            "Previous Tensor: tensor([5., 2., 3., 4., 5., 6., 7., 8., 9.])\n",
            "Previous shape: torch.Size([9])\n",
            "\n",
            "New Tensor: tensor([[5., 2., 3., 4., 5., 6., 7., 8., 9.]])\n",
            "New shape: torch.Size([1, 9])\n"
          ]
        }
      ]
    },
    {
      "cell_type": "code",
      "source": [
        "#torch.permute\n",
        "x_original=torch.rand(size=(224,224,3))\n",
        "x_permuted=x_original.permute(2,0,1)\n",
        "x_original.shape,x_permuted.shape"
      ],
      "metadata": {
        "colab": {
          "base_uri": "https://localhost:8080/"
        },
        "id": "qFpPAPgjjDRG",
        "outputId": "e883b309-9dc4-47c6-a1c2-7d60590b6923"
      },
      "execution_count": 65,
      "outputs": [
        {
          "output_type": "execute_result",
          "data": {
            "text/plain": [
              "(torch.Size([224, 224, 3]), torch.Size([3, 224, 224]))"
            ]
          },
          "metadata": {},
          "execution_count": 65
        }
      ]
    },
    {
      "cell_type": "code",
      "source": [
        "#indexing selecting data from tensors\n",
        "import torch\n",
        "x=torch.arange(1,10).reshape(1,3,3)\n",
        "x"
      ],
      "metadata": {
        "colab": {
          "base_uri": "https://localhost:8080/"
        },
        "id": "lsIw0pTOk5a1",
        "outputId": "9fc7d584-34c5-4e33-dabd-0bdeba114998"
      },
      "execution_count": 66,
      "outputs": [
        {
          "output_type": "execute_result",
          "data": {
            "text/plain": [
              "tensor([[[1, 2, 3],\n",
              "         [4, 5, 6],\n",
              "         [7, 8, 9]]])"
            ]
          },
          "metadata": {},
          "execution_count": 66
        }
      ]
    },
    {
      "cell_type": "code",
      "source": [
        "x[0]"
      ],
      "metadata": {
        "colab": {
          "base_uri": "https://localhost:8080/"
        },
        "id": "3BuTxk6RmOct",
        "outputId": "920f99ad-b029-4ea8-e5dd-b5f4be18bdc2"
      },
      "execution_count": 67,
      "outputs": [
        {
          "output_type": "execute_result",
          "data": {
            "text/plain": [
              "tensor([[1, 2, 3],\n",
              "        [4, 5, 6],\n",
              "        [7, 8, 9]])"
            ]
          },
          "metadata": {},
          "execution_count": 67
        }
      ]
    },
    {
      "cell_type": "code",
      "source": [
        "#index on 2nd dimension\n",
        "x[0][0]"
      ],
      "metadata": {
        "colab": {
          "base_uri": "https://localhost:8080/"
        },
        "id": "gUY-kI-YmZPY",
        "outputId": "9a1b5d31-3efa-408b-b9da-4d39ec46f548"
      },
      "execution_count": 68,
      "outputs": [
        {
          "output_type": "execute_result",
          "data": {
            "text/plain": [
              "tensor([1, 2, 3])"
            ]
          },
          "metadata": {},
          "execution_count": 68
        }
      ]
    },
    {
      "cell_type": "code",
      "source": [
        "#indexing in the most inner dimension or last dimension\n",
        "x[0][1][1]"
      ],
      "metadata": {
        "id": "ePJWZSdPmgNd",
        "colab": {
          "base_uri": "https://localhost:8080/"
        },
        "outputId": "8fad77ae-eef9-41b6-ee9a-9fa91f5708f4"
      },
      "execution_count": 69,
      "outputs": [
        {
          "output_type": "execute_result",
          "data": {
            "text/plain": [
              "tensor(5)"
            ]
          },
          "metadata": {},
          "execution_count": 69
        }
      ]
    },
    {
      "cell_type": "code",
      "source": [
        "#You can use \":\" to select \"all\" of a target dimension\n",
        "x[:,:,1]"
      ],
      "metadata": {
        "colab": {
          "base_uri": "https://localhost:8080/"
        },
        "id": "8X2NaNmsQAdn",
        "outputId": "d2d980aa-5038-46f3-9cc9-4fca1e3c133e"
      },
      "execution_count": 70,
      "outputs": [
        {
          "output_type": "execute_result",
          "data": {
            "text/plain": [
              "tensor([[2, 5, 8]])"
            ]
          },
          "metadata": {},
          "execution_count": 70
        }
      ]
    },
    {
      "cell_type": "code",
      "source": [
        "#Pytorch and numpy\n",
        "import torch\n",
        "import numpy as np\n",
        "array=np.arange(1.0,8.0)\n",
        "tensor=torch.from_numpy(array)\n",
        "array,tensor"
      ],
      "metadata": {
        "colab": {
          "base_uri": "https://localhost:8080/"
        },
        "id": "sd59IP9rQStk",
        "outputId": "8216b4f7-6f4b-423b-bace-9da3b03ae306"
      },
      "execution_count": 71,
      "outputs": [
        {
          "output_type": "execute_result",
          "data": {
            "text/plain": [
              "(array([1., 2., 3., 4., 5., 6., 7.]),\n",
              " tensor([1., 2., 3., 4., 5., 6., 7.], dtype=torch.float64))"
            ]
          },
          "metadata": {},
          "execution_count": 71
        }
      ]
    },
    {
      "cell_type": "code",
      "source": [
        "#what happens if we change the value of original array?\n",
        "array=array+1\n",
        "array,tensor"
      ],
      "metadata": {
        "colab": {
          "base_uri": "https://localhost:8080/"
        },
        "id": "mFO8qJ4tReap",
        "outputId": "28405458-91f1-483a-8ab6-24937b74e2d3"
      },
      "execution_count": 72,
      "outputs": [
        {
          "output_type": "execute_result",
          "data": {
            "text/plain": [
              "(array([2., 3., 4., 5., 6., 7., 8.]),\n",
              " tensor([1., 2., 3., 4., 5., 6., 7.], dtype=torch.float64))"
            ]
          },
          "metadata": {},
          "execution_count": 72
        }
      ]
    },
    {
      "cell_type": "code",
      "source": [
        "#tensor to numpy\n",
        "tensor=torch.ones(7)\n",
        "numpy_tensor=tensor.numpy()\n",
        "tensor,numpy_tensor"
      ],
      "metadata": {
        "colab": {
          "base_uri": "https://localhost:8080/"
        },
        "id": "8V1htDohSMp6",
        "outputId": "cc0bcbc7-3c56-46c6-97e4-a477412e8c35"
      },
      "execution_count": 73,
      "outputs": [
        {
          "output_type": "execute_result",
          "data": {
            "text/plain": [
              "(tensor([1., 1., 1., 1., 1., 1., 1.]),\n",
              " array([1., 1., 1., 1., 1., 1., 1.], dtype=float32))"
            ]
          },
          "metadata": {},
          "execution_count": 73
        }
      ]
    },
    {
      "cell_type": "code",
      "source": [
        "import torch\n",
        "\n",
        "#create two random tensors\n",
        "random_tensor_A=torch.rand(3,4)\n",
        "random_tensor_B=torch.rand(3,4)\n",
        "\n",
        "print(random_tensor_A)\n",
        "print(random_tensor_B)\n",
        "print(random_tensor_A==random_tensor_B)"
      ],
      "metadata": {
        "colab": {
          "base_uri": "https://localhost:8080/"
        },
        "id": "LUoNJrrBSoPr",
        "outputId": "bbff6733-f3e1-4abf-c4fe-c870b6583ad1"
      },
      "execution_count": 74,
      "outputs": [
        {
          "output_type": "stream",
          "name": "stdout",
          "text": [
            "tensor([[0.1224, 0.4379, 0.1247, 0.0896],\n",
            "        [0.0856, 0.3614, 0.8811, 0.2716],\n",
            "        [0.1310, 0.8184, 0.9524, 0.8240]])\n",
            "tensor([[0.3566, 0.1008, 0.2619, 0.0591],\n",
            "        [0.3409, 0.0047, 0.3959, 0.9699],\n",
            "        [0.1502, 0.9058, 0.9465, 0.8694]])\n",
            "tensor([[False, False, False, False],\n",
            "        [False, False, False, False],\n",
            "        [False, False, False, False]])\n"
          ]
        }
      ]
    },
    {
      "cell_type": "code",
      "source": [
        "#random reproducible tensors\n",
        "import torch\n",
        "torch.manual_seed(42)\n",
        "\n",
        "random_tensor_C=torch.rand(3,4)\n",
        "random_tensor_D=torch.rand(3,4)\n",
        "\n",
        "print(random_tensor_C)\n",
        "print(random_tensor_C)\n",
        "print(random_tensor_C==random_tensor_D)"
      ],
      "metadata": {
        "colab": {
          "base_uri": "https://localhost:8080/"
        },
        "id": "hAFVhMVVUfhT",
        "outputId": "6f965f59-1d43-4307-ec5c-ad4db7225dcd"
      },
      "execution_count": 75,
      "outputs": [
        {
          "output_type": "stream",
          "name": "stdout",
          "text": [
            "tensor([[0.8823, 0.9150, 0.3829, 0.9593],\n",
            "        [0.3904, 0.6009, 0.2566, 0.7936],\n",
            "        [0.9408, 0.1332, 0.9346, 0.5936]])\n",
            "tensor([[0.8823, 0.9150, 0.3829, 0.9593],\n",
            "        [0.3904, 0.6009, 0.2566, 0.7936],\n",
            "        [0.9408, 0.1332, 0.9346, 0.5936]])\n",
            "tensor([[False, False, False, False],\n",
            "        [False, False, False, False],\n",
            "        [False, False, False, False]])\n"
          ]
        }
      ]
    },
    {
      "cell_type": "code",
      "source": [
        "import torch\n",
        "torch.manual_seed(42)\n",
        "\n",
        "random_tensor_C=torch.rand(3,4)\n",
        "\n",
        "torch.manual_seed(42)\n",
        "random_tensor_D=torch.rand(3,4)\n",
        "\n",
        "print(random_tensor_C)\n",
        "print(random_tensor_C)\n",
        "print(random_tensor_C==random_tensor_D)"
      ],
      "metadata": {
        "colab": {
          "base_uri": "https://localhost:8080/"
        },
        "id": "Hp7SV59mVcGc",
        "outputId": "345f5be3-7af3-4f26-aa8d-1d41dc60fa18"
      },
      "execution_count": 76,
      "outputs": [
        {
          "output_type": "stream",
          "name": "stdout",
          "text": [
            "tensor([[0.8823, 0.9150, 0.3829, 0.9593],\n",
            "        [0.3904, 0.6009, 0.2566, 0.7936],\n",
            "        [0.9408, 0.1332, 0.9346, 0.5936]])\n",
            "tensor([[0.8823, 0.9150, 0.3829, 0.9593],\n",
            "        [0.3904, 0.6009, 0.2566, 0.7936],\n",
            "        [0.9408, 0.1332, 0.9346, 0.5936]])\n",
            "tensor([[True, True, True, True],\n",
            "        [True, True, True, True],\n",
            "        [True, True, True, True]])\n"
          ]
        }
      ]
    },
    {
      "cell_type": "code",
      "source": [
        "#Running tensors and pytorch objects on the GPUs\n",
        "#getting a GPU\n",
        "#Easiest-Use google colab for a free GPU(options to upgrade as well)\n",
        "#Use your own GPU\n",
        "#Use cloud computing,these services allow you to rent computers on the cloud"
      ],
      "metadata": {
        "id": "lIbchrELV-4H"
      },
      "execution_count": 77,
      "outputs": []
    },
    {
      "cell_type": "code",
      "source": [
        "#check for GPU access in pytorch\n",
        "import torch\n",
        "torch.cuda.is_available()"
      ],
      "metadata": {
        "colab": {
          "base_uri": "https://localhost:8080/"
        },
        "id": "qdoxeHdSZJDN",
        "outputId": "503d0a88-dc4d-4ba9-f337-93f6fc5caf7a"
      },
      "execution_count": 78,
      "outputs": [
        {
          "output_type": "execute_result",
          "data": {
            "text/plain": [
              "True"
            ]
          },
          "metadata": {},
          "execution_count": 78
        }
      ]
    },
    {
      "cell_type": "code",
      "source": [
        "#setup device agnostic code\n",
        "device=\"cuda\" if torch.cuda.is_available() else \"cpu\"\n",
        "device"
      ],
      "metadata": {
        "colab": {
          "base_uri": "https://localhost:8080/",
          "height": 36
        },
        "id": "diBXQKTubt5I",
        "outputId": "48a86f2c-01c1-43b4-d368-01fdc05f3f64"
      },
      "execution_count": 79,
      "outputs": [
        {
          "output_type": "execute_result",
          "data": {
            "text/plain": [
              "'cuda'"
            ],
            "application/vnd.google.colaboratory.intrinsic+json": {
              "type": "string"
            }
          },
          "metadata": {},
          "execution_count": 79
        }
      ]
    },
    {
      "cell_type": "code",
      "source": [
        "#Count number of devices\n",
        "torch.cuda.device_count()"
      ],
      "metadata": {
        "colab": {
          "base_uri": "https://localhost:8080/"
        },
        "id": "ZUoEqdx3dBt6",
        "outputId": "2b85cc45-2960-45cf-ac17-d50fd83a2425"
      },
      "execution_count": 80,
      "outputs": [
        {
          "output_type": "execute_result",
          "data": {
            "text/plain": [
              "1"
            ]
          },
          "metadata": {},
          "execution_count": 80
        }
      ]
    },
    {
      "cell_type": "code",
      "source": [
        "#putting a tensor and models on the GPU\n",
        "tensor=torch.tensor([1,2,3],device=\"cpu\")\n",
        "\n",
        "#Tensor not on GPU\n",
        "\n",
        "print(tensor,tensor.device)"
      ],
      "metadata": {
        "colab": {
          "base_uri": "https://localhost:8080/"
        },
        "id": "-bF5woPQdhiX",
        "outputId": "ff60bd23-e15d-40c7-adf9-0370262f0f4d"
      },
      "execution_count": 81,
      "outputs": [
        {
          "output_type": "stream",
          "name": "stdout",
          "text": [
            "tensor([1, 2, 3]) cpu\n"
          ]
        }
      ]
    },
    {
      "cell_type": "code",
      "source": [
        "#Move tensor to GPU (if available)\n",
        "tensor_on_gpu=tensor.to(device)\n",
        "tensor_on_gpu"
      ],
      "metadata": {
        "colab": {
          "base_uri": "https://localhost:8080/"
        },
        "id": "ld69Ld7KfnDT",
        "outputId": "c5f9ee05-e432-4c72-8a96-0287b131d867"
      },
      "execution_count": 82,
      "outputs": [
        {
          "output_type": "execute_result",
          "data": {
            "text/plain": [
              "tensor([1, 2, 3], device='cuda:0')"
            ]
          },
          "metadata": {},
          "execution_count": 82
        }
      ]
    },
    {
      "cell_type": "code",
      "source": [
        "#Moving tensors back to GPU,if tensor is in GPU it cannot be transformed to numpy\n",
        "tensor_back_to_cpu=tensor_on_gpu.cpu()\n",
        "tensor_back_to_cpu"
      ],
      "metadata": {
        "colab": {
          "base_uri": "https://localhost:8080/"
        },
        "id": "IVF3haBsgkYv",
        "outputId": "ae748106-b93a-417e-bb36-ba9d8e3cd75f"
      },
      "execution_count": 83,
      "outputs": [
        {
          "output_type": "execute_result",
          "data": {
            "text/plain": [
              "tensor([1, 2, 3])"
            ]
          },
          "metadata": {},
          "execution_count": 83
        }
      ]
    },
    {
      "cell_type": "code",
      "source": [
        "tensor_back_to_cpu=tensor_back_to_cpu.numpy()\n",
        "tensor_back_to_cpu"
      ],
      "metadata": {
        "colab": {
          "base_uri": "https://localhost:8080/"
        },
        "id": "RsPV7YYfiwJP",
        "outputId": "aca5718a-6ce4-4618-9be0-740d1701cb3a"
      },
      "execution_count": 84,
      "outputs": [
        {
          "output_type": "execute_result",
          "data": {
            "text/plain": [
              "array([1, 2, 3])"
            ]
          },
          "metadata": {},
          "execution_count": 84
        }
      ]
    },
    {
      "cell_type": "code",
      "source": [],
      "metadata": {
        "id": "JEGCFqZRi0GC"
      },
      "execution_count": null,
      "outputs": []
    }
  ]
}